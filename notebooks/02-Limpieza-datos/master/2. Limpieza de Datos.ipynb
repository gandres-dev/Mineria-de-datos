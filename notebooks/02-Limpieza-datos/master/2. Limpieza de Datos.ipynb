{
 "cells": [
  {
   "cell_type": "markdown",
   "metadata": {},
   "source": [
    "# <span style='color:blue'> <center>Knowledge Discovery in Data</center> </span>\n",
    "## **Capítulo 2.** Limpieza de Datos\n",
    "#### by **Ivan Alducin**\n",
    "<p><img src=\"https://miro.medium.com/max/700/1*6NZejVJz5nmxgHeWWTc2Iw.png\" width=\"1000\"></p>"
   ]
  },
  {
   "cell_type": "markdown",
   "metadata": {},
   "source": [
    "## Limpieza de Datos\n",
    "<p>A continuaciòn dejaremos algunas tecnicas de limpieza de datos, las cuales, no son necesariamente consecutivas, podemos empezar en cualquier punto, pero pueden servir como un mapa del procedimiento que podemos seguir:\n",
    " <li> Datos nulos </li>\n",
    " <li> Datos atípicos (Outliers) </li>\n",
    " <li> Datos inconsistente (Duplicados, capitalización, etc) </li>\n",
    "</p>"
   ]
  },
  {
   "cell_type": "code",
   "execution_count": null,
   "metadata": {},
   "outputs": [],
   "source": [
    "# Importar pandas, numpy, matplotlib y seaborn\n",
    "\n",
    "\n"
   ]
  },
  {
   "cell_type": "code",
   "execution_count": null,
   "metadata": {},
   "outputs": [],
   "source": [
    "# Importar el archivo de train a un DataFrame\n",
    "____"
   ]
  },
  {
   "cell_type": "code",
   "execution_count": null,
   "metadata": {},
   "outputs": [],
   "source": [
    "# Vamos a explorar el DataFrame\n",
    "\n",
    "\n"
   ]
  },
  {
   "cell_type": "code",
   "execution_count": null,
   "metadata": {
    "tags": []
   },
   "outputs": [],
   "source": [
    "# Vamos a dividir las variables númericas y las variables categóricas (object)\n",
    "numeric_cols = ____\n",
    "\n",
    "non_numeric_cols = ____"
   ]
  },
  {
   "cell_type": "markdown",
   "metadata": {},
   "source": [
    "## Datos Nulos (Missing Data)\n",
    "<p>Trabajar con datos faltantes o nulos, puede resultar una de las tareas dentro de la <i>Limpieza de Datos</i> que pareciera ser muy sencilla, aunque no siempre es asi. Además hay que tomar algo en cuenta, la mayoría de los modelos predictivos no aceptan variables con datos nulos, por lo que esto es algo siempre necesario. A continuación veremos tres técnicas que nos permitiran manejar este tipos de casos: </p>\n",
    "\n",
    "##### <li>Heatmap</li>"
   ]
  },
  {
   "cell_type": "code",
   "execution_count": null,
   "metadata": {},
   "outputs": [],
   "source": [
    "# Seleccionar la cantidad de columnas que quieres visualizar (Puedes no hacerlo)\n",
    "cols = ____\n",
    "\n",
    "# Vamos colocar dos colores diferentes uno para datos completos y otro para los faltantes (En código Hex)\n",
    "colours = ____\n",
    "\n",
    "# Graficar el heatmap con los datos nulos\n",
    "\n"
   ]
  },
  {
   "cell_type": "markdown",
   "metadata": {},
   "source": [
    "##### <li>Porcentaje de observaciones por columna</li>"
   ]
  },
  {
   "cell_type": "code",
   "execution_count": null,
   "metadata": {
    "tags": []
   },
   "outputs": [],
   "source": [
    "# Vamos a hacer un ciclo para iterar en las columnas\n",
    "for ____:\n",
    "    # Almacenamos el porcentaje de datos nulos por columna\n",
    "    pct_missing = ____\n",
    "    print('{} - {}%'.format(____, round(pct_missing*100)))"
   ]
  },
  {
   "cell_type": "code",
   "execution_count": null,
   "metadata": {},
   "outputs": [],
   "source": [
    "# Reto: Convierte a DataFrame el ejercicio anterior\n"
   ]
  },
  {
   "cell_type": "markdown",
   "metadata": {},
   "source": [
    "##### <li>Total de columnas sin datos</li>"
   ]
  },
  {
   "cell_type": "code",
   "execution_count": null,
   "metadata": {
    "tags": []
   },
   "outputs": [],
   "source": [
    "# Vamos a crear un ciclo para calcular el total de datos nulos por columna\n",
    "for ____:\n",
    "    # Verificaremos si la columna contiene nulos\n",
    "    missing = ____\n",
    "    \n",
    "    # Calcular el total de datos nulos en la columna\n",
    "    num_missing = np.sum(missing)\n",
    "    \n",
    "    # Con esta condición crearemos una nueva columna con el identificador 'ismissing' en caso de contener algún valor nulo\n",
    "    if num_missing > 0:  \n",
    "        df['{}_ismissing'.format(col)] = missing"
   ]
  },
  {
   "cell_type": "code",
   "execution_count": null,
   "metadata": {},
   "outputs": [],
   "source": [
    "# Crear una lista para almacenar solo aquellas columnas con el identificador 'ismissing'\n",
    "ismissing_cols = [____ for ____ in _____ if _____ in ____]\n",
    "\n",
    "# Sumar el total de columnas vacias por cada observación\n",
    "df['num_missing'] = df[____].sum(____)\n",
    "\n",
    "# Grafico de barras (x = # de Columnas, y = Total de obervaciones)\n",
    "df['num_missing'].value_counts().reset_index().sort_values(by='index').plot.bar(x='index', y='num_missing', figsize=(18, 8))"
   ]
  },
  {
   "cell_type": "markdown",
   "metadata": {},
   "source": [
    "## ¿Que hacemos con los datos nulos?\n",
    "<p>No hay como tal, un proceso exacto para tratar con los datos nulos, tenemos que hacer un estudio de las variables en cuestión para decidir la mejor manera de manejarlos. A continuación se describen los cuatro métodos más comunes para manejar los datos faltantes. Pero, si la situación es más complicada de lo habitual, debemos ser creativos para utilizar métodos más sofisticados, que veremos más adelante ;)</p>\n",
    "\n",
    "\n",
    "\n",
    "\n",
    "##### <li> 1. Eliminar la observación </li>\n",
    "<p> Solo si estamos seguros de que los datos que faltan no son informativos, lo realizamos. De lo contrario, deberíamos considerar otras soluciones. Por ejemplo, a partir del histograma de datos faltantes, notamos que solo una cantidad mínima de observaciones tienen más de 35 variables faltantes en total. Asi que podemos crear un nuevo conjunto de datos que cumpla esta condición </p>"
   ]
  },
  {
   "cell_type": "code",
   "execution_count": null,
   "metadata": {},
   "outputs": [],
   "source": [
    "# Crea un nuevo DataFrame eliminando las observaciones con la condición anterior\n",
    "____"
   ]
  },
  {
   "cell_type": "markdown",
   "metadata": {},
   "source": [
    "##### <li> 2. Eliminar la variable </li>\n",
    "<p> Solo si estamos seguros de que los datos que faltan no son informativos, lo realizamos. De lo contrario, deberíamos considerar otras soluciones. Por ejemplo, de la lista de datos faltantes creadas anteriormente, notamos que <code>hospital_beds_raion</code> tiene un alto porcentaje de valores faltantes con un poco mas del 47%, entonces podemos tomar la decision de eliminar esta variable. O podemos ser más restrictivos y eliminar variables con un porcentaje menor de datos nulos. Tu tomas la decisión ;)</p>"
   ]
  },
  {
   "cell_type": "code",
   "execution_count": null,
   "metadata": {},
   "outputs": [],
   "source": [
    "# Crea una lista con las variables a eliminar\n",
    "cols_to_drop = ____\n",
    "\n",
    "# Crea un DataFrame eliminando las variables de la lista anterior\n",
    "____"
   ]
  },
  {
   "cell_type": "markdown",
   "metadata": {},
   "source": [
    "##### <li> 3. Rellenar nulos </li>\n",
    "<p> Cuando tenemos una variable numérica, podemos realizar la <i>imputación</i> de datos faltantes. Reemplazamos los valores faltantes con el valor promedio o mediana de esta. Cuando tenemos una variable categórica, podemos imputar los datos faltantes por la moda (el valor más frecuente). Usando <code>life_sq</code> como ejemplo, podemos rellenar los valores faltantes de esta variable por su mediana.</p>"
   ]
  },
  {
   "cell_type": "code",
   "execution_count": null,
   "metadata": {},
   "outputs": [],
   "source": [
    "# Calcula la mediana de la variable\n",
    "med = ____\n",
    "\n",
    "# Rellena los valores nulos con la estadística anterior\n",
    "df['life_sq'] = ____"
   ]
  },
  {
   "cell_type": "code",
   "execution_count": null,
   "metadata": {},
   "outputs": [],
   "source": [
    "# Reto 1: Vamos a hacer esto para todas las variables numericas\n",
    "for col in numeric_cols:\n",
    "    ____\n",
    "    ____\n",
    "    ____\n",
    "    "
   ]
  },
  {
   "cell_type": "code",
   "execution_count": null,
   "metadata": {},
   "outputs": [],
   "source": [
    "# Reto 2: Hagamos lo mismo para todas las variables categoricas\n",
    "for col in non_numeric_cols:\n",
    "    ____\n",
    "    ____\n",
    "    ____"
   ]
  },
  {
   "cell_type": "markdown",
   "metadata": {},
   "source": [
    "## Datos Atipicos (Outliers)\n",
    "<p>Los valores atípicos son datos que claramente son <i>diferentes</i> de otras observaciones (Puede haber muchas razones). Podrían ser valores atípicos reales o errores. Existen varias formas de encontrarlos, a continuaciòn listamos algunas: </p>"
   ]
  },
  {
   "cell_type": "markdown",
   "metadata": {},
   "source": [
    "##### <li>Histogramas</li>"
   ]
  },
  {
   "cell_type": "code",
   "execution_count": null,
   "metadata": {},
   "outputs": [],
   "source": [
    "# Grafica un histograma de la variable 'life_sq'\n",
    "____"
   ]
  },
  {
   "cell_type": "markdown",
   "metadata": {},
   "source": [
    "##### <li>Boxplots</li>"
   ]
  },
  {
   "cell_type": "code",
   "execution_count": null,
   "metadata": {},
   "outputs": [],
   "source": [
    "# Grafica una grafica de caja para la misma variable del ejercicio anterior\n",
    "____"
   ]
  },
  {
   "cell_type": "markdown",
   "metadata": {},
   "source": [
    "##### <li>Estadística Descriptiva</li>"
   ]
  },
  {
   "cell_type": "code",
   "execution_count": null,
   "metadata": {},
   "outputs": [],
   "source": [
    "# Imprime la estadística descriptiva de la misma variable\n",
    "____"
   ]
  },
  {
   "cell_type": "markdown",
   "metadata": {},
   "source": [
    "##### <li>Graficos de barras (Variables categóricas)</li>"
   ]
  },
  {
   "cell_type": "code",
   "execution_count": null,
   "metadata": {},
   "outputs": [],
   "source": [
    "# Crea un grafico de barras de los valores de la columna 'ecology'\n",
    "____"
   ]
  },
  {
   "cell_type": "markdown",
   "metadata": {},
   "source": [
    "## Datos Inconsistentes\n",
    "<p>Todos los datos que alimentan el modelo deben servir para el propósito del proyecto. Los datos innecesarios son cuando los datos no agregan valor alguno o incluso son redundantes. A continuación tres posibles escenarios (<i>¿Que otros puede haber?</i>).</p>\n",
    "\n",
    "##### <li> 1. Datos repetitivos </li>\n",
    "Podemos crear una lista de variables con un alto porcentaje del mismo valor. Por ejemplo, mostremos a continuación, variables con más del 95 % de filas con el mismo valor."
   ]
  },
  {
   "cell_type": "code",
   "execution_count": null,
   "metadata": {},
   "outputs": [],
   "source": [
    "# Calcular el total de observaciones\n",
    "num_rows = len(df.index)\n",
    "\n",
    "# Crear una lista vacía para almacenar las variables con alto porcentaje de repetidos\n",
    "my_list = ____ \n",
    "\n",
    "for ____ in ____:\n",
    "    # Contar la proporción de los valores de las columnas\n",
    "    count = df[____].____(dropna=False)\n",
    "    \n",
    "    # Calcular el porcentaje del valor principal de la columna (Este calculo puede contener mas de dos valores) y el total de observaciones\n",
    "    top_pct = (____ / ____)\n",
    "    \n",
    "    if top_pct > 0.95:\n",
    "        my_list.append(____)\n",
    "        print('{0}: {1:.5f}%'.format(col, top_pct*100))\n",
    "        print(count)\n",
    "        print('__________________________________')"
   ]
  },
  {
   "cell_type": "markdown",
   "metadata": {},
   "source": [
    "##### <li> 2. Datos duplicados </li>\n",
    "Los datos duplicados son cuando existen copias de la misma observación. Existen dos tipos básicamente\n",
    "\n",
    "<b> Tipo 1: </b>Los datos duplicados basados en una sola variable, como un identificador único que pudiera estar repetido. veamoslo en el siguiente ejercicio"
   ]
  },
  {
   "cell_type": "code",
   "execution_count": null,
   "metadata": {},
   "outputs": [],
   "source": [
    "# Elimina las observaciones con duplicados en la columna 'id'\n",
    "df_without_duplicate1 = ____\n",
    "\n",
    "# Comparemos si realmente teniamos datos duplicados con el DataFrame original\n",
    "\n"
   ]
  },
  {
   "cell_type": "markdown",
   "metadata": {},
   "source": [
    "<b> Tipo 2: </b> El siguiente caso en cuando tenemos duplicados conformados por mas de una variable. Por ejemplo, las posibilidades de que ocurran dos transacciones al mismo tiempo, con lel mismo tamaño, el mismo precio y el mismo año de construcción son cercanas a cero.\n",
    "Podemos configurar un grupo de variables críticas como identificadores únicos para poder llevar a cabo esta tarea. En este ejercicio Incluiremos  la lista de variables que se tiene a continuación, el objetivo es eliminar las observaciones bajo este identificador en conjunto. "
   ]
  },
  {
   "cell_type": "code",
   "execution_count": null,
   "metadata": {},
   "outputs": [],
   "source": [
    "key = ['timestamp', 'full_sq', 'life_sq', 'floor', 'build_year', 'num_room', 'price_doc']\n",
    "\n",
    "# Agrupemos las observaciones unicas por este identificador en conjunto (Para tener visibilidad si existen registros de esta naturaleza)\n",
    "____"
   ]
  },
  {
   "cell_type": "code",
   "execution_count": null,
   "metadata": {},
   "outputs": [],
   "source": [
    "# Elimina los duplicados que cumplan la condición anterior\n",
    "df_without_duplicate2 = ____\n",
    "\n",
    "# Comparemos si realmente teniamos datos duplicados con el DataFrame original\n",
    "\n",
    "\n"
   ]
  },
  {
   "cell_type": "markdown",
   "metadata": {},
   "source": [
    "##### <li> 3. Formatos </li>\n",
    "Por último tenemos que tratar con la conversión entre formatos de datos para que estos sean consistentes con los resultados que queremos obtener. Un ejemplo es convertir un campo en formato de cadena de texto <code>Object</code> a formato <code>DateTime</code>."
   ]
  },
  {
   "cell_type": "code",
   "execution_count": null,
   "metadata": {},
   "outputs": [],
   "source": [
    "# Convierte el campo 'timestamp' a DateTime en formato yyyy-mm-dd\n",
    "____\n",
    "\n",
    "# Crea nuevos campos con el desglose de la fecha a día, mes y día de la semana\n",
    "df['year'] = ____\n",
    "df['month'] = ____\n",
    "df['weekday'] = ____"
   ]
  }
 ],
 "metadata": {
  "kernelspec": {
   "display_name": "Python 3 (ipykernel)",
   "language": "python",
   "name": "python3"
  },
  "language_info": {
   "codemirror_mode": {
    "name": "ipython",
    "version": 3
   },
   "file_extension": ".py",
   "mimetype": "text/x-python",
   "name": "python",
   "nbconvert_exporter": "python",
   "pygments_lexer": "ipython3",
   "version": "3.9.7"
  }
 },
 "nbformat": 4,
 "nbformat_minor": 4
}
