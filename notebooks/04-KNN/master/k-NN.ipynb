{
 "cells": [
  {
   "cell_type": "markdown",
   "metadata": {},
   "source": [
    "# <span style='color:blue'> <center>Supervised Learning</center> </span>\n",
    "## **Capitulo 1.** k-Nearest Neighbors\n",
    "#### by **Ivan Alducin**\n",
    "<p><img src=\"https://miro.medium.com/max/753/0*jqxx3-dJqFjXD6FA\" width=\"1000\"></p>"
   ]
  },
  {
   "cell_type": "markdown",
   "metadata": {},
   "source": [
    "## Reconocimiento de dígitos\n",
    "<p>Hasta ahora, solo hemos realizado una clasificación binaria, ya que la variable objetivo tenía dos resultados posibles. En los siguientes ejercicios, trabajarás con el conjunto de datos de reconocimiento de dígitos MNIST, que tiene 10 clases, ¡los dígitos del 0 al 9! Una versión reducida del conjunto de datos <a href=\"http://yann.lecun.com/exdb/mnist/\">MNIST</a> es uno de los conjuntos de datos incluidos en <code>scikit-learn</code>\n",
    "\n",
    "Cada muestra de este conjunto de datos es una imagen de 8x8 que representa un dígito escrito a mano. Cada píxel está representado por un número entero en el rango de 0 a 16, lo que indica niveles variables de negro. Recuerde que los conjuntos de datos integrados de scikit-learn son del tipo <code>Bunch</code>, que son objetos similares a diccionarios.  Por otro lado, la clave <i>data</i> contiene la matriz de características, es decir, las imágenes como una matriz plana de 64 píxeles.</p>\n",
    "\n",
    "<p><img src=\"https://miro.medium.com/max/1400/1*hVdoiW35FXUE-fZ0HI30Tw.jpeg\" width=\"350\"></p>"
   ]
  },
  {
   "cell_type": "code",
   "execution_count": null,
   "metadata": {},
   "outputs": [],
   "source": [
    "# Importar las librerías necesarias\n",
    "from sklearn import datasets\n",
    "____\n",
    "\n",
    "# Importa el dataset \"digits\" el cual es un conjunto de datos que se encuentra dentro de la librería sklearn\n",
    "digits = ____\n",
    "\n",
    "# Explora los componentes clave (keys) y la descripcion del dataset (DESCR)\n",
    "print(____)\n",
    "print(____)"
   ]
  },
  {
   "cell_type": "code",
   "execution_count": null,
   "metadata": {},
   "outputs": [],
   "source": [
    "# Explora los componentes clave (dict keys) \n",
    "____"
   ]
  },
  {
   "cell_type": "code",
   "execution_count": null,
   "metadata": {},
   "outputs": [],
   "source": [
    "# Vamos a imprimir un digito\n",
    "plt.imshow(digits.images[____], cmap=plt.cm.gray_r, interpolation='nearest')\n",
    "plt.show()"
   ]
  },
  {
   "cell_type": "markdown",
   "metadata": {},
   "source": [
    "## Train/Test\n",
    "<p>Una de las principales diferencias entre la Estadística Clasica y el <i>Machine Learning</i> es la división del conjunto de datos en conjuntos de entrenamiento y prueba, con el objetivo de medir y cuantificar la precisión y el nivel de error en los datos que de alguna manera el modelo <i>\"No ha visto\"</i>. A continuación crearemos nuestros conjuntos de entrenamiento y prueba con el método <code>train_test_split</code> y mediremos cual es el nivel de precisión de nuestro modelo. El objetivo es <b>predecir cual es el dígito dada una imagen</b>!!!. Para lo cual entrenaremos un clasificador <i>k-NN</i> a los datos de entrenamiento y luego calcularemos su precisión usando el método <code>accuracy_score()</code> en los datos de prueba ¿Como crees que en un modelo de Clasificación se calcule su precisión?. Parece bastante dificil, pero no lo es ;)</p>"
   ]
  },
  {
   "cell_type": "code",
   "execution_count": null,
   "metadata": {},
   "outputs": [],
   "source": [
    "# Importa la librería para entrenamiento y prueba de datos y la librería para calcular la precisión\n",
    "____"
   ]
  },
  {
   "cell_type": "code",
   "execution_count": null,
   "metadata": {},
   "outputs": [],
   "source": [
    "# Crea los arreglos para las variables independientes y la variable objetivo\n",
    "X = ____\n",
    "y = ____\n",
    "\n",
    "# Divide los arreglos anteriores en conjuntos de training y test en una proporcion del 70/30\n",
    "X_train, X_test, y_train, y_test = ____\n",
    "\n",
    "# Instancia un clasificador k-NN con 7 vecinos\n",
    "knn = ____\n",
    "\n",
    "# Ajusta (Entrena) el clasificador en el conjunto de entrenamiento\n",
    "____\n",
    "\n",
    "# Calcular las predicciones sobre el conjunto de prueba\n",
    "y_pred = \n",
    "\n",
    "# Verificar la precisión del modelo \n",
    "print(____(____, ____))"
   ]
  },
  {
   "cell_type": "code",
   "execution_count": null,
   "metadata": {},
   "outputs": [],
   "source": [
    "# Vamos a visualizar la imagen de un número que vas a crear en tu computador\n",
    "img = plt.imread(____)\n",
    "plt.____"
   ]
  },
  {
   "cell_type": "code",
   "execution_count": null,
   "metadata": {},
   "outputs": [],
   "source": [
    "# Con esta libreria transformaremos la imagen creada a un formato de 8x8 pixeles\n",
    "from PIL import Image\n",
    "image = Image.open(____)\n",
    "image_resize = ____\n",
    "\n",
    "# Vamos transformar la nueva imagen en un array donde se almacenara la información de los pixeles\n",
    "pixels = np.asarray(____)"
   ]
  },
  {
   "cell_type": "code",
   "execution_count": null,
   "metadata": {},
   "outputs": [],
   "source": [
    "# Configura la imagen al formato de entrada en el conjunto de entrenamiento (array 1x8) \n",
    "arr = "
   ]
  },
  {
   "cell_type": "code",
   "execution_count": null,
   "metadata": {},
   "outputs": [],
   "source": [
    "# Calcula la predicción del modelo con el número quue creaste, ¿La clasificación es correcta? :O\n",
    "print(\"El número es:\", ____)"
   ]
  },
  {
   "cell_type": "markdown",
   "metadata": {},
   "source": [
    "## Overfit and Underfit\n",
    "<p>¿Cual es mi numero ideal para elegir el parametro <i>k</i>? Vamos a calcular los valores de precisión para los conjuntos e entrenamiento y prueba para una rango de valores k (del 1 al 20). Al observar cómo difieren estos valores podremos observar cual es el mejor parametro sin caer en un <i>Overfit</i> o un <i>Underfit</i>.</p>"
   ]
  },
  {
   "cell_type": "code",
   "execution_count": null,
   "metadata": {},
   "outputs": [],
   "source": [
    "# Configuración de arreglos iniciales. \n",
    "neighbors = np.arange(____, ____)\n",
    "train_accuracy = []\n",
    "test_accuracy = []\n",
    "\n",
    "# Loop para diferentes valores de k\n",
    "for ____ in ____:\n",
    "    \n",
    "    # Clasificador k-NN para el parametro k\n",
    "    knn = ____\n",
    "\n",
    "    # Ajuste del clasificador al dataset de entrenamiento\n",
    "    ____\n",
    "    \n",
    "    # Calcula la precision sobre el dataset de entrenamiento y almacena el valor de precisión en el arreglo creado anteriormente\n",
    "    train_accuracy.____\n",
    "\n",
    "    # Calcula la precision sobre el dataset de prueba y almacena el valor de precisión en el arreglo creado anteriormente\n",
    "    test_accuracy.____\n",
    "\n",
    "# Grafico para encontrar un valor optimo de k\n",
    "plt.plot(____, ____, label = 'Testing Accuracy')\n",
    "plt.plot(____, ____, label = 'Training Accuracy')\n",
    "plt.title('k-NN: for different k values')\n",
    "plt.xlabel('Number of Neighbors')\n",
    "plt.ylabel('Accuracy')\n",
    "plt.legend()\n",
    "plt.show()"
   ]
  }
 ],
 "metadata": {
  "kernelspec": {
   "display_name": "Python 3 (ipykernel)",
   "language": "python",
   "name": "python3"
  },
  "language_info": {
   "codemirror_mode": {
    "name": "ipython",
    "version": 3
   },
   "file_extension": ".py",
   "mimetype": "text/x-python",
   "name": "python",
   "nbconvert_exporter": "python",
   "pygments_lexer": "ipython3",
   "version": "3.9.12"
  }
 },
 "nbformat": 4,
 "nbformat_minor": 4
}
