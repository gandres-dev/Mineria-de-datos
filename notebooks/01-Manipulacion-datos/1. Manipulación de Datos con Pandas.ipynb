{
 "cells": [
  {
   "cell_type": "markdown",
   "metadata": {},
   "source": [
    "# <span style='color:blue'> <center>Knowledge Discovery in Data</center> </span>\n",
    "## **Capítulo 1.** Manipulación de Datos con Pandas\n",
    "#### by **Ivan Alducin**\n",
    "<p><img src=\"https://cdn.datafloq.com/cache/blog_pictures/878x531/what-does-clustering-in-data-mining-mean.jpg\" width=\"1250\"></p>"
   ]
  },
  {
   "cell_type": "markdown",
   "metadata": {},
   "source": [
    "## Explorando un DataFrame\n",
    "<p>Cuando tenemos un nuevo DataFrame para trabajar, lo primero que debemos hacer es explorarlo y ver qué contiene.</p>"
   ]
  },
  {
   "cell_type": "code",
   "execution_count": null,
   "metadata": {},
   "outputs": [],
   "source": [
    "# Importar pandas\n"
   ]
  },
  {
   "cell_type": "code",
   "execution_count": null,
   "metadata": {},
   "outputs": [],
   "source": [
    "# Importar el archivo de sales a un DataFrame\n"
   ]
  },
  {
   "cell_type": "code",
   "execution_count": null,
   "metadata": {},
   "outputs": [],
   "source": [
    "# Imprimir las primeras 5 lineas de mi DataFrame\n"
   ]
  },
  {
   "cell_type": "code",
   "execution_count": null,
   "metadata": {},
   "outputs": [],
   "source": [
    "# Imprimir el tamaño (#filas, #columnas) de mi DataFrame\n"
   ]
  },
  {
   "cell_type": "markdown",
   "metadata": {},
   "source": [
    "## Partes un DataFrame\n",
    "<p>Para comprender mejor la estructura de un DataFrame, es útil saber que constan de tres componentes, almacenados como atributos:\n",
    "<ul>\n",
    "<li><code>.values</code> muestra una matriz de valores NumPy bidimensional</li>\n",
    "<li><code>.columns</code> muestra índice de columnas: los nombres de las columnas.</li>\n",
    "<li><code>.index</code> muestra índice para las filas: números de fila o nombres de fila.</li>\n",
    "</ul>\n",
    "</p>"
   ]
  },
  {
   "cell_type": "code",
   "execution_count": null,
   "metadata": {},
   "outputs": [],
   "source": [
    "# Imprimir los valores de mi DataFrame\n"
   ]
  },
  {
   "cell_type": "code",
   "execution_count": null,
   "metadata": {},
   "outputs": [],
   "source": [
    "# Imprimir el nombre de mis campos (columnas) de mi DataFrame\n"
   ]
  },
  {
   "cell_type": "code",
   "execution_count": null,
   "metadata": {},
   "outputs": [],
   "source": [
    "# Imprimir el indice de mi DataFrame\n"
   ]
  },
  {
   "cell_type": "markdown",
   "metadata": {},
   "source": [
    "## Ordenando filas de un DataFrame\n",
    "<p>Encontrar datos interesantes en un DataFrame suele ser más fácil si cambiamos el orden de las filas. Podemos ordenar las filas pasando un nombre de columna al método <code>.sort_values()</code>. </p>"
   ]
  },
  {
   "cell_type": "code",
   "execution_count": null,
   "metadata": {},
   "outputs": [],
   "source": [
    "# Ordena el DataFrame por el monto de venta semanal\n"
   ]
  },
  {
   "cell_type": "code",
   "execution_count": null,
   "metadata": {},
   "outputs": [],
   "source": [
    "# Ordena el DataFrame por el monto de venta semanal de forma descendente\n"
   ]
  },
  {
   "cell_type": "code",
   "execution_count": null,
   "metadata": {},
   "outputs": [],
   "source": [
    "# Ordena el Dataframe por depa y venta semanal de forma descendente\n"
   ]
  },
  {
   "cell_type": "markdown",
   "metadata": {},
   "source": [
    "## Filtrando un DataFrame\n",
    "<p>Una gran parte del proceso de análisis de datos consiste en encontrar qué partes de un conjunto de datos son interesantes. Una de las técnicas más simples para esto es encontrar un subconjunto de filas que coincida con algunos criterios."
   ]
  },
  {
   "cell_type": "code",
   "execution_count": null,
   "metadata": {},
   "outputs": [],
   "source": [
    "# Filtra las filas donde las ventas sean negativas, ¿Porque crees que haya ventas negativas?\n"
   ]
  },
  {
   "cell_type": "code",
   "execution_count": null,
   "metadata": {},
   "outputs": [],
   "source": [
    "# Filra las filas de las tiendas tipo A\n"
   ]
  },
  {
   "cell_type": "code",
   "execution_count": null,
   "metadata": {},
   "outputs": [],
   "source": [
    "# Filra las filas de las tiendas tipo A y C\n"
   ]
  },
  {
   "cell_type": "code",
   "execution_count": null,
   "metadata": {},
   "outputs": [],
   "source": [
    "# Filra las filas de las tiendas 1, 2, 10, 20 y 31\n",
    "\n"
   ]
  },
  {
   "cell_type": "markdown",
   "metadata": {},
   "source": [
    "## Agregando nuevas columnas\n",
    "<p>Por lo general los datos que tenemos no son suficientes para nuestro análisis, siempre necesitamos agregar nuevas columnas o campos calculados a nuestro DataFrame. Esto en el campo de la ciencia de datos se le conoce como <i>feature engineering</i>.\n",
    "Se pueden crear nuevas columnas desde cero, pero también es común derivarlas de otras, por ejemplo, agregando campos calculados con base en otro existente o cambiando su escala de unidades o valor."
   ]
  },
  {
   "cell_type": "code",
   "execution_count": null,
   "metadata": {},
   "outputs": [],
   "source": [
    "# Crear una columna que calcule el precio de venta + IVA\n"
   ]
  },
  {
   "cell_type": "markdown",
   "metadata": {},
   "source": [
    "## Funciones estadísticas\n",
    "<p><i>Summary statistics</i> o la estadística de resumen es el conjunto de medidas cuantitativas que nos permiten visualizar el comportamiento de una variable. Por ejemplo, la desviación media, mediana, mínimo, máxima y estándar son estadísticas de resumen. El cálculo de estas nos permite tener una mejor comprensión y entendimiento de nuestro conjunto de datos, incluso si es muy grande.</p>"
   ]
  },
  {
   "cell_type": "code",
   "execution_count": null,
   "metadata": {},
   "outputs": [],
   "source": [
    "# Calcular el promedio de las venta semanales\n"
   ]
  },
  {
   "cell_type": "code",
   "execution_count": null,
   "metadata": {},
   "outputs": [],
   "source": [
    "# Calcular la mediana de las ventas semanales\n"
   ]
  },
  {
   "cell_type": "code",
   "execution_count": null,
   "metadata": {},
   "outputs": [],
   "source": [
    "# Imprimir la estadística descriptiva básica de mi DataFrame\n"
   ]
  },
  {
   "cell_type": "code",
   "execution_count": null,
   "metadata": {},
   "outputs": [],
   "source": [
    "# Calcular la última fecha de venta \n"
   ]
  },
  {
   "cell_type": "code",
   "execution_count": null,
   "metadata": {},
   "outputs": [],
   "source": [
    "# Calcular la fecha en la que tuve mi primer venta\n"
   ]
  },
  {
   "cell_type": "markdown",
   "metadata": {},
   "source": [
    "## Multiples funciones\n",
    "<p>El método <code>.agg()</code> nos permite aplicar nuestras propias funciones personalizadas a un DataFrame, así como también aplicar funciones a más de una columna a la vez, lo que hace que los cálculos sean súper eficientes. Lo anterior se hace usando la siguiente nomenclatura: <code>df['columna'].agg([funcion1, funcion2])</code>"
   ]
  },
  {
   "cell_type": "code",
   "execution_count": null,
   "metadata": {},
   "outputs": [],
   "source": [
    "# Calcula la media para las ventas y la temperatura\n"
   ]
  },
  {
   "cell_type": "code",
   "execution_count": null,
   "metadata": {},
   "outputs": [],
   "source": [
    "# Agrega la mediana y el máximo al cálculo anterior\n"
   ]
  },
  {
   "cell_type": "code",
   "execution_count": null,
   "metadata": {},
   "outputs": [],
   "source": [
    "# Crea un nuevo DataFrame que contenga las ventas de la tienda 1 y el departamento 1\n",
    "sales_1_1 = "
   ]
  },
  {
   "cell_type": "code",
   "execution_count": null,
   "metadata": {},
   "outputs": [],
   "source": [
    "# Ordena por fecha\n",
    "____\n",
    "\n",
    "# Crea un nuevo campo calculando la venta acumulada semanal\n",
    "sales_1_1['cum_weekly_sales'] = \n",
    "\n",
    "# Crea un nuevo campo campo calculado con la venta acumulada máxima\n",
    "sales_1_1['cum_max_sales'] = \n",
    "\n",
    "# Vamos a ver los campos que acabas de crear\n",
    "print(sales_1_1[[\"date\", \"weekly_sales\", \"cum_weekly_sales\", \"cum_max_sales\"]])"
   ]
  },
  {
   "cell_type": "markdown",
   "metadata": {},
   "source": [
    "## Eliminando duplicados de un DataFrame\n",
    "<p>Eliminar duplicados es una habilidad esencial para obtener análisis precisos porque, a menudo, no deseamos tener valores repetidos dentro de nuestros cálculos.</p>"
   ]
  },
  {
   "cell_type": "code",
   "execution_count": null,
   "metadata": {},
   "outputs": [],
   "source": [
    "# Elimina los duplicados de las combinaciones store/type\n",
    "store_types = "
   ]
  },
  {
   "cell_type": "code",
   "execution_count": null,
   "metadata": {},
   "outputs": [],
   "source": [
    "# Elimina los duplicados de las combinaciones store/department y ordena por venta semanal\n",
    "store_depts = "
   ]
  },
  {
   "cell_type": "code",
   "execution_count": null,
   "metadata": {},
   "outputs": [],
   "source": [
    "# Filtra las filas en donde las ventas hayan sido en días festivos ('is_holiday') y borra los duplicados de las fechas\n",
    "holiday_dates ="
   ]
  },
  {
   "cell_type": "markdown",
   "metadata": {},
   "source": [
    "## Conteo y proporción\n",
    "<p>Contar es una excelente manera de obtener una descripción general de nuestro conjunto datos y poder analizar sobre todo nuestras categorías top o en su defecto las que menor proporción tienen con respecto una variable</p>"
   ]
  },
  {
   "cell_type": "code",
   "execution_count": null,
   "metadata": {},
   "outputs": [],
   "source": [
    "# Contar el número de transacciones de cada tipo de tiendas\n"
   ]
  },
  {
   "cell_type": "code",
   "execution_count": null,
   "metadata": {},
   "outputs": [],
   "source": [
    "# Dar la proporcion del cálculo anterior\n"
   ]
  },
  {
   "cell_type": "markdown",
   "metadata": {},
   "source": [
    "## Porcentaje de ventas\n",
    "<p>Walmart distingue tres tipos de tiendas: \"supercenters\", \"discount stores\" y \"neighborhood markets\", codificados en este conjunto de datos como tipo \"A\", \"B\" y \"C\". En este ejercicio, vamos a calcular las ventas totales realizadas en cada tipo de tienda, sin utilizar <code>.groupby()</code>.</p>"
   ]
  },
  {
   "cell_type": "code",
   "execution_count": null,
   "metadata": {},
   "outputs": [],
   "source": [
    "# Calcular el total de ventas semanales\n",
    "sales_all = \n",
    "\n",
    "# Calcular las ventas semanales para supercenters\n",
    "sales_A = \n",
    "\n",
    "# Calcular las ventas semanales para discount stores\n",
    "sales_B = \n",
    "\n",
    "# Calcular las ventas semanales para neighborhood markets\n",
    "sales_C = \n",
    "\n",
    "# Calcular la proporción de venta por tipo de tienda\n",
    "sales_propn_by_type = "
   ]
  },
  {
   "cell_type": "markdown",
   "metadata": {},
   "source": [
    "## Group by\n",
    "<p> Podemos ahorrarnos mucho código usando el método <code>.groupby</code> como veremos a continuación</p>"
   ]
  },
  {
   "cell_type": "code",
   "execution_count": null,
   "metadata": {},
   "outputs": [],
   "source": [
    "# Calcular las ventas por tipo de tienda usando .groupby()\n",
    "sales_by_type = "
   ]
  },
  {
   "cell_type": "code",
   "execution_count": null,
   "metadata": {},
   "outputs": [],
   "source": [
    "# Calcular la proporción de ventas por tipo de tienda\n",
    "sales_prop = ____ / ____\n",
    "\n",
    "# Resultado\n",
    "print(\"La proporcion de venta por tienda es: \" ____)"
   ]
  },
  {
   "cell_type": "code",
   "execution_count": null,
   "metadata": {},
   "outputs": [],
   "source": [
    "# Para cada tipo de tienda calcular la venta mínima, máxima, media y la mediana\n"
   ]
  },
  {
   "cell_type": "code",
   "execution_count": null,
   "metadata": {},
   "outputs": [],
   "source": [
    "# Para cada tipo de tienda, agrega la temperatura y calcula el minimo, maximo, media y mediana\n"
   ]
  },
  {
   "cell_type": "markdown",
   "metadata": {},
   "source": [
    "## Pivot Tables\n",
    "<p> Las tablas dinámicas son la forma estándar de agregar datos en hojas de cálculo. En pandas, las tablas dinámicas son esencialmente otra forma de realizar cálculos agrupados. Es decir, el método <code>.pivot_table()</code> es justamente una alternativa a <code>.groupby()</code>.</p>"
   ]
  },
  {
   "cell_type": "code",
   "execution_count": null,
   "metadata": {},
   "outputs": [],
   "source": [
    "# Calcular el promedio de ventas semanales por tipo de tienda con el metodo .pivot_table() \n"
   ]
  },
  {
   "cell_type": "code",
   "execution_count": null,
   "metadata": {},
   "outputs": [],
   "source": [
    "# Calcular el promedio y la mediana de ventas semanales por tipo de tienda \n"
   ]
  },
  {
   "cell_type": "code",
   "execution_count": null,
   "metadata": {},
   "outputs": [],
   "source": [
    "# Calcular el promedio de ventas semanales por tipo de tienda y departamento\n"
   ]
  },
  {
   "cell_type": "code",
   "execution_count": null,
   "metadata": {},
   "outputs": [],
   "source": [
    "# Calcular el promedio de ventas semanales por tipo de tienda y departamento, reemplazando los valores nulos con 0\n"
   ]
  },
  {
   "cell_type": "code",
   "execution_count": null,
   "metadata": {},
   "outputs": [],
   "source": [
    "# Calcular el promedio de ventas semanales por tipo de tienda y departamento, reemplazando los valores nulos con 0 y sumando las filas y columnas\n"
   ]
  },
  {
   "cell_type": "code",
   "execution_count": null,
   "metadata": {},
   "outputs": [],
   "source": [
    "# Exporta tu resultado a un csv\n"
   ]
  }
 ],
 "metadata": {
  "kernelspec": {
   "display_name": "Python 3 (ipykernel)",
   "language": "python",
   "name": "python3"
  },
  "language_info": {
   "codemirror_mode": {
    "name": "ipython",
    "version": 3
   },
   "file_extension": ".py",
   "mimetype": "text/x-python",
   "name": "python",
   "nbconvert_exporter": "python",
   "pygments_lexer": "ipython3",
   "version": "3.9.7"
  }
 },
 "nbformat": 4,
 "nbformat_minor": 4
}
