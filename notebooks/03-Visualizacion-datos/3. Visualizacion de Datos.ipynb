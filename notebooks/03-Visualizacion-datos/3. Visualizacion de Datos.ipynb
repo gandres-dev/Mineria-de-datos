{
 "cells": [
  {
   "cell_type": "markdown",
   "metadata": {},
   "source": [
    "# <span style='color:blue'> <center>Knowledge Discovery in Data</center> </span>\n",
    "## **Capítulo 3.** Visualización de Datos\n",
    "#### by **Ivan Alducin**\n",
    "<p><img src=\"https://i.redd.it/530iwllofvf71.jpg\" width=\"750\"</p>"
   ]
  },
  {
   "cell_type": "markdown",
   "metadata": {},
   "source": [
    "## Comparando histogramas\n",
    "<p>Vamos a analizar datos de los precios de vivienda en EE.UU, ¿Qué patrones podemos encontrar?. La librería de <code>seaborn</code> proporciona herramientas de visualización para análsis estadistico mucho más sofisticadas</p>"
   ]
  },
  {
   "cell_type": "code",
   "execution_count": null,
   "metadata": {},
   "outputs": [],
   "source": [
    "# Importa pandas, seaborn, y matplotlib\n",
    "\n",
    "\n",
    "\n",
    "# Importa el archivo de House Pricing\n",
    "df = pd.read_csv(____)"
   ]
  },
  {
   "cell_type": "code",
   "execution_count": null,
   "metadata": {},
   "outputs": [],
   "source": [
    "# Exploremos el DataFrame\n",
    "\n",
    "\n"
   ]
  },
  {
   "cell_type": "code",
   "execution_count": null,
   "metadata": {},
   "outputs": [],
   "source": [
    "# Grafica un histograma del Precio de Venta ('SalePrice') con pandas\n",
    "____"
   ]
  },
  {
   "cell_type": "code",
   "execution_count": null,
   "metadata": {},
   "outputs": [],
   "source": [
    "# Grafica un histograma del precio de venta con seaborn\n",
    "____"
   ]
  },
  {
   "cell_type": "markdown",
   "metadata": {},
   "source": [
    "## distplot\n",
    "<p>La función <code>distplot()</code> nos muestra la <a href=\"https://en.wikipedia.org/wiki/Kernel_density_estimation\">Densidad Estimada Kernel (KDE)</a>, la cual a grandes rasgos es una forma de suavizar la curva de distribución de una variable </p>"
   ]
  },
  {
   "cell_type": "code",
   "execution_count": null,
   "metadata": {},
   "outputs": [],
   "source": [
    "# Crea un displot del precio de venta con la función KDE desactivada y con 20 bins\n",
    "sns.distplot(____, \n",
    "             kde=____, \n",
    "             bins=____)"
   ]
  },
  {
   "cell_type": "code",
   "execution_count": null,
   "metadata": {},
   "outputs": [],
   "source": [
    "# Crea un displot del precio de venta con la función hist desactivada y las funciones rug y shade activas\n",
    "sns.distplot(____,\n",
    "             hist=____,\n",
    "             rug=____,\n",
    "             kde_kws={'shade':True})"
   ]
  },
  {
   "cell_type": "markdown",
   "metadata": {},
   "source": [
    "## No te olvides de Matplotlib :(\n",
    "<p>La mayoría de las veces podemos usar la librería de <code>seaborn</code> para visualización de datos, pero a veces es útil usar las funciones de <code>matplotlib</code> para dar una mayor personalización, incluso podemos complementar nuestras visualizaciones agregando información de estadísticos como la <i>media</i>, <i>mediana</i>, etc. Y tambien podemos hacer un estudio más detallado entre algún rango seleccionado dentro de mi variable. Veamos estas funcionalidades a continuación</p>"
   ]
  },
  {
   "cell_type": "code",
   "execution_count": null,
   "metadata": {},
   "outputs": [],
   "source": [
    "# Crea la figura y el eje\n",
    "____\n",
    "\n",
    "# Grafica la distribución de la renta de apartamentos de 1 habitación\n",
    "____\n",
    "\n",
    "# Agrega la leyenda al eje X: \"Sales Price\", al eje Y: \"Distribution\" y agrega un titulo a la grafica: \"House Price Distribution in US\"\n",
    "ax.set(____, \n",
    "       ____, \n",
    "       ____)\n",
    "plt.show()"
   ]
  },
  {
   "cell_type": "code",
   "execution_count": null,
   "metadata": {},
   "outputs": [],
   "source": [
    "# Calcula la media y la mediana del precio de venta\n",
    "mean = ____\n",
    "median = _____\n",
    "\n",
    "# Crea el mismo grafico del ejercicio anterior y define un limite entre 100000 y 400000 \n",
    "\n",
    "\n",
    "\n",
    "\n",
    "# Pero antes de visualizarlo vamos a agregar algunas anotaciones, coloca los valores de la media y la mediana\n",
    "ax.axvline(x=____, color=____, label='Median', linestyle='--', linewidth=2)\n",
    "ax.axvline(x=____, color=____, label='Mean', linestyle='-', linewidth=2)\n",
    "\n",
    "# Agrega la leyenda a los ejes\n",
    "____\n",
    "plt.show()"
   ]
  },
  {
   "cell_type": "markdown",
   "metadata": {},
   "source": [
    "## Graficos de Regresión\n",
    "<p>La <i>Regresion Lineal</i> es una herramienta útil para comprender y cuantificar la relación entre variables númericas, <code>seaborn</code> cuenta con herramientas de visualización simples pero poderosas para poder ver la tendencia y nos da de forma visual, si asi lo queremos la recta de regresión que mejor ajusta a nuestros datos. Sigamos analizando las variables para los precios de Vivienda en EE.UU</p>"
   ]
  },
  {
   "cell_type": "code",
   "execution_count": null,
   "metadata": {},
   "outputs": [],
   "source": [
    "# Imprime un grafico de regresión entre el precio de venta y el tamaño de la casa ('GrLivArea'), ¿Existe una relación?\n",
    "\n",
    "\n"
   ]
  },
  {
   "cell_type": "code",
   "execution_count": null,
   "metadata": {},
   "outputs": [],
   "source": [
    "# Con la funcion lmplot gráfica las variables anteriores pero esta vez lo visualizaremos por Tipo de Zona habitacional ('MSZoning')\n",
    "sns.lmplot(x=____, \n",
    "           y=____, \n",
    "           hue=____, \n",
    "           data=____,\n",
    "           color=____)"
   ]
  },
  {
   "cell_type": "code",
   "execution_count": null,
   "metadata": {},
   "outputs": [],
   "source": [
    "# la gráfica anterior es complicada de entender, por lo que podemos dividir en filas/columnas las zonas habitables\n",
    "plt.figure(figsize=(____)\n",
    "\n",
    "sns.lmplot(x=____, \n",
    "           y=____, \n",
    "           col=____, \n",
    "           data=____,\n",
    "           fit_reg=____)"
   ]
  },
  {
   "cell_type": "markdown",
   "metadata": {},
   "source": [
    "## Graficando multiples variables\n",
    "<p>A la hora de analizar nuestra información generalmente tenemos que comparar multiples variables, en el siguiente ejercicio vamos a poder hacer eso con unas cuantas lineas de código, sin tener la necesidad de graficar variable por variable, con esto nos podemos ahorrar mucho tiempo.</p>"
   ]
  },
  {
   "cell_type": "code",
   "execution_count": null,
   "metadata": {},
   "outputs": [],
   "source": [
    "# Vamos a comparar las siguientes variables con el Precio de Venta\n",
    "cols = ['GrLivArea','TotalBsmtSF','1stFlrSF','2ndFlrSF','GarageArea']\n",
    "\n",
    "# Grafica de dispersion con varias variables\n",
    "fig, ax = plt.subplots(ncols=_____, nrows=_____, figsize=____ sharey=____)\n",
    "for i, c in zip(range(____), cols):\n",
    "    sns.scatterplot(x=c, \n",
    "                    y=____, \n",
    "                    data=____,\n",
    "                    ax=____)"
   ]
  },
  {
   "cell_type": "markdown",
   "metadata": {},
   "source": [
    "## Datos Categóricos\n",
    "<p>Para los conjuntos de datos categóricos, <code>seaborn</code> tiene diferentes tipos de visualizaciones. Vamos a continuar con el anàlisis de vivienda en EE.UU. ¿Que tipos de graficos existen para visualizar la relación entre variables categoricas/númericas?\n",
    "<p>"
   ]
  },
  {
   "cell_type": "code",
   "execution_count": null,
   "metadata": {},
   "outputs": [],
   "source": [
    "# ¿El precio depende de la condición en la que se encuentre una casa? Con la tradicional grafica de barras visualizaremos la relación entre la Condiciòn General de la casa ('OverallQual') y el Precio de Venta 'SalePrice'\n",
    "\n"
   ]
  },
  {
   "cell_type": "code",
   "execution_count": null,
   "metadata": {},
   "outputs": [],
   "source": [
    "# Grafica un stripplot para visualizar la proporción entre la Condiciòn General de la casa y el Precio de Venta 'SalePrice' ¿Cual es la diferencia con la gráfica anterior?\n",
    "sns.stripplot(data=____,\n",
    "              x=____,\n",
    "              y=____)"
   ]
  },
  {
   "cell_type": "code",
   "execution_count": null,
   "metadata": {},
   "outputs": [],
   "source": [
    "# Grafica un awarmplot para visualizar la las variables del ejercicio anterior pero ahora agregaremos la variable de Condicion Externa ('ExterQual')\n",
    "sns.swarmplot(data=df,\n",
    "              x=____,\n",
    "              y=____,\n",
    "              hue=____)"
   ]
  },
  {
   "cell_type": "code",
   "execution_count": null,
   "metadata": {},
   "outputs": [],
   "source": [
    "# ¿Cual es el mes que mas venta de viviendas hay? Graficaremos un countplot para responder a esta pregunta\n",
    "sns.countplot(data=____,\n",
    "              y=____,\n",
    "              hue=____\")"
   ]
  },
  {
   "cell_type": "code",
   "execution_count": null,
   "metadata": {},
   "outputs": [],
   "source": [
    "# ¿Cual es el precio promedio por zona habitacional?\n",
    "zone = ____\n",
    "\n",
    "# Hagamos una grafica de pie pero configuremos algunas cosas antes\n",
    "labels = zone[____].tolist()\n",
    "explode = (0.1, 0.1, 0.1, 0.1, 0.1)\n",
    "\n",
    "# Demos un tamaño de (6,6)\n",
    "____\n",
    "\n",
    "# Grafica de pie\n",
    "plt.pie(zone[____], \n",
    "        explode=____,\n",
    "        shadow=True, )\n",
    "plt.legend(____)"
   ]
  },
  {
   "cell_type": "markdown",
   "metadata": {},
   "source": [
    "## Gráficos para distribuciones\n",
    "<p>Como sabemos los histogramas y los gráficos de caja nos sirven para visualizar la distribución de una variable. Pero veamos que otras posibilidades nos ofrece <code>seaborn</code>\n",
    "</p>"
   ]
  },
  {
   "cell_type": "code",
   "execution_count": null,
   "metadata": {},
   "outputs": [],
   "source": [
    "# Cual es la zona con la mayor plusvalia?, Imprime un grafico de caja con las variables de 'Neighborhood' y 'SalePrice' para averiguarlo\n",
    "\n"
   ]
  },
  {
   "cell_type": "code",
   "execution_count": null,
   "metadata": {},
   "outputs": [],
   "source": [
    "# ¿Como se ve afectado el precio por las siguientes variables?\n",
    "cols = ['OverallQual','OverallCond','SaleCondition','GarageCars']\n",
    "\n",
    "fig, ax = plt.subplots(ncols=4, nrows=1, figsize=____, sharey=____)\n",
    "for i, c in zip(____, ____):\n",
    "    sns.boxplot(x=____, \n",
    "                y=____, \n",
    "                data=____, \n",
    "                ax=____, \n",
    "                color='skyblue')"
   ]
  },
  {
   "cell_type": "code",
   "execution_count": null,
   "metadata": {},
   "outputs": [],
   "source": [
    "# ¿Como se distribuye el precio de Venta por las Condiciones del Exterior de las viviendas('ExterQual')? \n",
    "sns.violinplot(data=____,\n",
    "               x=____,\n",
    "               y=____)"
   ]
  },
  {
   "cell_type": "markdown",
   "metadata": {},
   "source": [
    "## Heatmaps\n",
    "<p>Un mapa de calor (<i>heatmap</i>) es un diagrama matricial que se puede utilizar para resumir gráficamente la correlación que existe entre dos variables. Cuando tenemos muchas variables dentro un conjunto de datos, podría parecer una tarea dificil calcular y visualizar la relación de cada una de las variables númericas existentes. Pero veamos que no es tan complicado como parece :)</p>"
   ]
  },
  {
   "cell_type": "code",
   "execution_count": null,
   "metadata": {},
   "outputs": [],
   "source": [
    "# Definamos un tamaño de Grafica de (30,30)\n",
    "____\n",
    "\n",
    "# Heatmap (Configura el metodo de annot)\n",
    "sns.heatmap(df.corr(), \n",
    "            annot=____)\n",
    "\n",
    "# Definamos un titulo\n",
    "plt.title(____, fontsize = 20)\n",
    "\n",
    "# Mostremos la grafica\n",
    "plt.show()"
   ]
  },
  {
   "cell_type": "markdown",
   "metadata": {},
   "source": [
    "## FacetGrid\n",
    "<p>La función <code>FacetGrid</code> nos permite contruir visualiaciones en forma de cuadrícula, las cuales nos permiten crear una serie de gráficos que pueden ser útiles para comprender relaciones complejas de datos. Para estos ejercicios, continuaremos examinando los datos del Departamento de Educación de EE.UU. Para crear una cuadrícula hay que tener en cuenta los siguientes pasos<p/p>\n",
    "<ul>\n",
    "    <li>Llamar a la función <code>FacetGrid</code> definiendo filas, columnas, hue, etc</li>\n",
    "    <li>Mapear las gráficas que estarán contenidas en la cuadrícula</li>\n",
    "</ul>"
   ]
  },
  {
   "cell_type": "code",
   "execution_count": null,
   "metadata": {},
   "outputs": [],
   "source": [
    "# Crea una lista\n",
    "____\n",
    "\n",
    "# Crea un FacetGrid con el tipo de grado en las filas y especificando el orden de la lista anterior\n",
    "g = sns.____(____, \n",
    "             ____=____,\n",
    "             row_order=____)\n",
    "\n",
    "# Mapea un boxplot para la variable de precio de venta\n",
    "g.____(sns.____, ____)\n",
    "\n",
    "plt.show()"
   ]
  },
  {
   "cell_type": "markdown",
   "metadata": {},
   "source": [
    "## factorplot\n",
    "<p>En muchos casos, <code>factorplot()</code> puede ser una forma más sencilla de crear un FacetGrid. En lugar de crear una cuadrícula y mapear el gráfico, lo podemos usar para crear un gráfico con unas cuantas línea de código.</p>"
   ]
  },
  {
   "cell_type": "code",
   "execution_count": null,
   "metadata": {},
   "outputs": [],
   "source": [
    "# Crea un factorplot que contenga un boxplot para los valores de los Precios de Venta ('SalePrice') por tipo de Condición Externa ('ExterQual') \n",
    "sns.factorplot(x=____,\n",
    "               data=____,\n",
    "               col=____,\n",
    "               kind='box')\n",
    "plt.show()"
   ]
  },
  {
   "cell_type": "code",
   "execution_count": null,
   "metadata": {},
   "outputs": [],
   "source": [
    "# Crea un factorplot igual al anterior, pero esta vez con un tipo 'boxen' \n",
    "sns.factorplot(x=____,\n",
    "               data=____,\n",
    "               col=____,\n",
    "               kind=____)\n",
    "plt.show()"
   ]
  },
  {
   "cell_type": "code",
   "execution_count": null,
   "metadata": {},
   "outputs": [],
   "source": [
    "# Crea una función que clasifique el precio de venta por rangos (<15k = 'Low', entre 15K y 30K = 'Medium', >30k = 'High')\n",
    "def ____\n",
    "\n",
    "\n",
    "\n",
    "\n",
    "\n",
    "# Crea una nueva columna aplicando la función anterior\n",
    "df['PriceRange'] =  ____"
   ]
  },
  {
   "cell_type": "markdown",
   "metadata": {},
   "source": [
    "## lmplot\n",
    "<p>Ya hemos visto las diferentes funcionalidades de un <code>lmplot</code>, pero ahora exploraremos un poco mas de sus propiedades. Veremos que podemos tener un desglose completo invluyendo varias variables dentro de un mismo gráfico.</p>"
   ]
  },
  {
   "cell_type": "code",
   "execution_count": null,
   "metadata": {},
   "outputs": [],
   "source": [
    "# Crea un lmplot que muestre la relación entre el Tamaño de la vivienda ('GrLivArea') y el Precio de Venta ('SalePrice') desglosado por Calidad Externa ('ExterQual'), Tamaño del Lote ('LotShape') y la Variable de Rango de Precio ('PriceRange') creada anteriormente \n",
    "sns.lmplot(x=____,\n",
    "           y=____,\n",
    "           data=____\n",
    "           col=\"ExterQual\",\n",
    "           row='LotShape',\n",
    "           hue='____)\n",
    "plt.show()"
   ]
  },
  {
   "cell_type": "markdown",
   "metadata": {},
   "source": [
    "## pairplot\n",
    "<p>La función <code>pairplot()</code> es generalmente una forma más conveniente de ver las relaciones existentes entre varias variables númericas (también podemos incluir variables categóricas), con tan solo unas líneas de codigo, tenemos gráficos que nos pueden proporcionar <i>insights</i> muy significativos dentro de nuestro análisis. Luego, exploraremos alguna funcionalidades adicionales</p>"
   ]
  },
  {
   "cell_type": "code",
   "execution_count": null,
   "metadata": {},
   "outputs": [],
   "source": [
    "# Utiliza paiplot para crear una grafica de dispersión entre 'GrLivArea', 'SalePrice' y también 'OverallQual'\n",
    "sns.pairplot(data=____,\n",
    "             vars=[____],\n",
    "             kind='scatter')\n",
    "plt.show()"
   ]
  },
  {
   "cell_type": "code",
   "execution_count": null,
   "metadata": {},
   "outputs": [],
   "source": [
    "# Muestra por Rango de Precio ('PriceRange') la gráfica anterior activando la funcionalidad diag_kws\n",
    "sns.pairplot(data=____,\n",
    "             vars=____,\n",
    "             kind=____,\n",
    "             hue=____,\n",
    "             diag_kws={'alpha':.5})\n",
    "plt.show()"
   ]
  },
  {
   "cell_type": "markdown",
   "metadata": {},
   "source": [
    "## joinplot\n",
    "<p><code>joinplot</code> combina gráficos univariados como histogramas y gráficos de distibución bivariados como dispersiónes y regresiónes. Estos gráficos también demuestran cómo Seaborn proporciona funciones convenientes para combinar varios gráficos.</p>"
   ]
  },
  {
   "cell_type": "code",
   "execution_count": null,
   "metadata": {},
   "outputs": [],
   "source": [
    "# ¿Recuerdas que los lmplot pueden llevar gráficos de ordenes superiores?... Explora las siguientes funcionalidades\n",
    "sns.jointplot(x=\"2ndFlrSF\",\n",
    "              y=____,\n",
    "              data=____,\n",
    "              kind=____,   \n",
    "              order=2,\n",
    "              xlim=(20, 2000))\n",
    "plt.show()"
   ]
  },
  {
   "cell_type": "markdown",
   "metadata": {},
   "source": [
    "## Estilos y configuraciones de color\n",
    "<p>Seaborn ofrece varias opciones para modificar los estilos y colores de nuestras visualizaciones.</p>"
   ]
  },
  {
   "cell_type": "code",
   "execution_count": null,
   "metadata": {},
   "outputs": [],
   "source": [
    "# Grafica la distribucion de los precios de renta de viviendas de 2 habitaciones ('fmr_2'). Definamos un estilo 'whitegrid'\n",
    "sns.set_style('whitegrid')\n",
    "sns.distplot(df['fmr_2'])\n",
    "plt.show()"
   ]
  },
  {
   "cell_type": "code",
   "execution_count": null,
   "metadata": {},
   "outputs": [],
   "source": [
    "# Grafica la distribucion de los precios de renta de viviendas de 2 habitaciones ('fmr_2'). Definamos un estilo 'whitegrid'\n",
    "sns.set_style(____)\n",
    "\n"
   ]
  },
  {
   "cell_type": "code",
   "execution_count": null,
   "metadata": {},
   "outputs": [],
   "source": [
    "# Grafica la misma variable del ejercicio anterior pero con un estilo 'dark'\n",
    "sns.set_style(____)\n",
    "\n"
   ]
  },
  {
   "cell_type": "markdown",
   "metadata": {},
   "source": [
    "## Paletas de colores\n",
    "<p>Dentro de seaborn existen configuraciones para paletas de colores, las cuales pueden ayudar a tener un mejor nivel en visualización, entendimiento y formato a nuestras gráficas. Primero crearemos un par de paletas de colores, y después veremos su funcioanlidad, para ello personalizaremos el <code>Heatmap</code> creado anteriormente que nos permite ver la correlación entre las variables existentes en un conjunto de datos</p>"
   ]
  },
  {
   "cell_type": "code",
   "execution_count": null,
   "metadata": {},
   "outputs": [],
   "source": [
    "# Despliega una paleta Purpura con una escala de 8 colores (Purples)\n",
    "sns.palplot(____)"
   ]
  },
  {
   "cell_type": "code",
   "execution_count": null,
   "metadata": {},
   "outputs": [],
   "source": [
    "# Despliega una paleta de Azul a Rojo con una escala de 12 colores (coolwarm)\n",
    "sns.palplot(____)"
   ]
  },
  {
   "cell_type": "code",
   "execution_count": null,
   "metadata": {},
   "outputs": [],
   "source": [
    "# Importa el archivo de House Pricing\n",
    "_____\n",
    "\n",
    "# Da un tamaño a la gráfica de (30, 30)\n",
    "____\n",
    "\n",
    "# Con esto quitamos los valores de la matriz de identidad\n",
    "mask = np.zeros_like(df.corr(), dtype = np.bool)\n",
    "mask[np.triu_indices_from(mask)] = True\n",
    "\n",
    "# Grafiquemos el Heatmap\n",
    "sns.heatmap(____, \n",
    "            mask = mask, \n",
    "            annot=True, \n",
    "            center = 0,\n",
    "            cmap=sns.color_palette('coolwarm', 200))"
   ]
  },
  {
   "cell_type": "markdown",
   "metadata": {},
   "source": [
    "## Combinando todo\n",
    "<p>Se pueden crear gráficos interesantes, al combinar las tecnicas de visualización vistas, a continuación te dejo un gráfico que puedes utilizar para complementar tu <i>Análisis Exploratorio de Datos</i> ;)</p>"
   ]
  },
  {
   "cell_type": "code",
   "execution_count": null,
   "metadata": {},
   "outputs": [],
   "source": [
    "import matplotlib.style as style\n",
    "import matplotlib.gridspec as gridspec\n",
    "from scipy import stats\n",
    "\n",
    "style.use('fivethirtyeight')\n",
    "\n",
    "# Funcion para graficar el detalle completo de la distribución de 1 variable\n",
    "def plot_dist_char(df, feature):\n",
    "    #Figura \n",
    "    fig = plt.figure(constrained_layout=True, figsize=(15,10))\n",
    "    grid = gridspec.GridSpec(ncols=3, nrows=2, figure=fig)\n",
    "\n",
    "    # Media y Desviacion Estandar\n",
    "    mu = np.mean(df[feature])\n",
    "    sigma = np.std(df[feature])\n",
    "\n",
    "    # Histograma\n",
    "    ax1 = fig.add_subplot(grid[0, :2])\n",
    "    ax1.set_title('Histogram')\n",
    "    sns.distplot(df.loc[:,feature], norm_hist=True, ax = ax1)\n",
    "    plt.legend(['Normal dist. ($\\mu=$ {:.2f} and $\\sigma=$ {:.2f} )'.format(mu, sigma)])\n",
    "\n",
    "    # QQ Plot. \n",
    "    ax2 = fig.add_subplot(grid[1, :2])\n",
    "    stats.probplot(df.loc[:,feature], plot = ax2)\n",
    "    ax2.set_title('')\n",
    "\n",
    "    # Box Plot. \n",
    "    ax3 = fig.add_subplot(grid[:, 2])\n",
    "    ax3.set_title('Box Plot') \n",
    "    sns.boxplot(y = df.loc[:,feature], ax = ax3)"
   ]
  },
  {
   "cell_type": "code",
   "execution_count": null,
   "metadata": {},
   "outputs": [],
   "source": [
    "# Aplica la función anterior a alguna variable (númerica) del DataFrame\n",
    "\n"
   ]
  }
 ],
 "metadata": {
  "kernelspec": {
   "display_name": "Python 3 (ipykernel)",
   "language": "python",
   "name": "python3"
  },
  "language_info": {
   "codemirror_mode": {
    "name": "ipython",
    "version": 3
   },
   "file_extension": ".py",
   "mimetype": "text/x-python",
   "name": "python",
   "nbconvert_exporter": "python",
   "pygments_lexer": "ipython3",
   "version": "3.9.7"
  }
 },
 "nbformat": 4,
 "nbformat_minor": 4
}
